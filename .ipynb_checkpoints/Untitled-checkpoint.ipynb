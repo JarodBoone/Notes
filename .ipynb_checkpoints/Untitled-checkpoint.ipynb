{
 "cells": [
  {
   "cell_type": "markdown",
   "metadata": {},
   "source": [
    "Jarod Boone \n",
    "\n",
    "## Problem 1 \n",
    "**a)** Compute the fresnel diffraction integral with $N=2.5$ $\\xi_0$ from -3 to 3 "
   ]
  },
  {
   "cell_type": "code",
   "execution_count": 1,
   "metadata": {},
   "outputs": [],
   "source": [
    "%matplotlib inline \n",
    "import numpy as np # math library \n",
    "import scipy.integrate as integrate # integration library \n",
    "from matplotlib import pyplot as plt # plotting library"
   ]
  },
  {
   "cell_type": "code",
   "execution_count": 4,
   "metadata": {},
   "outputs": [
    {
     "name": "stderr",
     "output_type": "stream",
     "text": [
      "c:\\python38\\lib\\site-packages\\scipy\\integrate\\quadpack.py:453: ComplexWarning: Casting complex values to real discards the imaginary part\n",
      "  return _quadpack._qagse(func,a,b,args,full_output,epsabs,epsrel,limit)\n"
     ]
    },
    {
     "data": {
      "text/plain": [
       "-0.25464790894703315"
      ]
     },
     "execution_count": 4,
     "metadata": {},
     "output_type": "execute_result"
    }
   ],
   "source": [
    "N=2.5\n",
    "b=1\n",
    "\n",
    "def integral_helper(x,xi) : \n",
    "    return np.exp(1j * np.pi * N *(xi -x))\n",
    "\n",
    "\n",
    "def fresnel(xi): \n",
    "    y=[]\n",
    "    for i in range(-b,b) : \n",
    "        y.append\n",
    "    return np.trapz(lambda x : np.exp(1j * np.pi * N *(xi -x)),-b,b)[0]\n",
    "\n",
    "fresnel(2)"
   ]
  },
  {
   "cell_type": "code",
   "execution_count": null,
   "metadata": {},
   "outputs": [],
   "source": []
  }
 ],
 "metadata": {
  "kernelspec": {
   "display_name": "Python 3",
   "language": "python",
   "name": "python3"
  },
  "language_info": {
   "codemirror_mode": {
    "name": "ipython",
    "version": 3
   },
   "file_extension": ".py",
   "mimetype": "text/x-python",
   "name": "python",
   "nbconvert_exporter": "python",
   "pygments_lexer": "ipython3",
   "version": "3.8.2"
  }
 },
 "nbformat": 4,
 "nbformat_minor": 4
}
