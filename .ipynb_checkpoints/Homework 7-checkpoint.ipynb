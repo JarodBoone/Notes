{
 "cells": [
  {
   "cell_type": "markdown",
   "metadata": {},
   "source": [
    "# Optics -- Homework 7\n",
    "Jarod Boone "
   ]
  },
  {
   "cell_type": "code",
   "execution_count": 1,
   "metadata": {},
   "outputs": [],
   "source": [
    "%matplotlib notebook \n",
    "import numpy as np # math library \n",
    "from bqplot import pyplot as plt # plotting library"
   ]
  },
  {
   "cell_type": "markdown",
   "metadata": {},
   "source": [
    "## Problem 1 \n",
    "\n",
    "Laser medium pumped by laser at $\\lambda_p = 690 * 10^{-9}\\enspace\\text{[m]}$ and with a laser frequency at $\\lambda_l = 930 * 10^{-9}\\enspace\\text{[m]}$. Because of the energy diagram and the fact that the pump and laser share the same lower energy state but have different high energy states, I'm going to assume that this is a 3-level laser system.\n",
    "\n",
    "This means population inversion is possible but requires some amount of input intensity much greater than 0. \n",
    "\n",
    "We can calculate the pump frequency ($\\frac{c}{\\lambda_p}\\cdot 2\\pi = \\omega_p$) in order to determine the saturation intensity $I_{sat} = \\frac{\\hbar\\cdot\\omega}{\\tau\\cdot\\sigma}$"
   ]
  },
  {
   "cell_type": "code",
   "execution_count": 10,
   "metadata": {},
   "outputs": [
    {
     "name": "stdout",
     "output_type": "stream",
     "text": [
      "saturation intensity = 2.880870e+06 [W/m]\n"
     ]
    }
   ],
   "source": [
    "c = 3e8\n",
    "h = 6.626e-34\n",
    "\n",
    "pump_wavelength = 690e-9\n",
    "laser_wavelength = 930e-9\n",
    "\n",
    "sigma = 10e-21 \n",
    "tau = 10e-6\n",
    "pump_frequency = c/pump_wavelength \n",
    "\n",
    "saturation_intensity = (h * pump_frequency)/(sigma * tau)\n",
    "\n",
    "print(f'saturation intensity = {saturation_intensity:e} [W/m]')"
   ]
  },
  {
   "cell_type": "markdown",
   "metadata": {},
   "source": [
    "**a)** Given that the laser is a 3 level system we can solve for the population inversion\n",
    "\n",
    "$$\\Delta N = N \\cdot \\frac{1 - (I/I_{sat})}{1 + (I/I_{sat})} \\implies \\Delta N < 0 \\quad \\textbf{iff} \\quad I > I_{sat} $$\n",
    "\n",
    "Therefore we must set the pump intensity to be above `2.88 * 10^6 [W/m]` in order to obtain a population inversion \n",
    "\n",
    "**b)** If we pump at exactly this intensity there will be zero produced laser intensity because although the population is inverted we do not necessarily have a gain that overcomes the loss due to reflection and absorption within the laser cavity \n",
    "\n",
    "Therfore the intensity of the laser radiation produced is `0`\n",
    "\n",
    "**c)** If we raise the pump power to be far past this value then we will have some lasing! This will be proportional to the pump power and increase \n",
    "\n"
   ]
  },
  {
   "cell_type": "markdown",
   "metadata": {},
   "source": [
    "# Problem 2 \n",
    "\n",
    "pump with another laser that emits green light. \n",
    "threshold pump power of $P_{thresh} = 0.4W$\n",
    "\n",
    "The laser pump has a slope efficiency of 10%. In our Ti:sapphire cavity, the green\n",
    "pump laser is focused to a spot size diameter of $50 \\enspace[\\mu m ]\\implies r_{focus} = 25 \\enspace[\\mu m] $ inside the gain medium.\n",
    "The absorption cross-section of Ti:sapphire is given by $\\sigma = 4.1 * 10^{-19} \\enspace[cm^2] = 4.1 * 10^{-24} \\enspace [m^2]$\n",
    " at the laser wavelength\n",
    "of $\\lambda_l = 789 \\enspace [nm]$, and the Ti:sapphire excited state lifetime is tau = 3.2 microseconds.\n",
    "Make a plot of the output power emerging from the laser as a function of the pump power, over a\n",
    "range of pump powers from 0 to 10 watts. Provide an analytical expression for this curve which\n",
    "is valid for the above-threshold regime. \n",
    "\n",
    "$P_{sat} = I_{sat}\\cdot A$\n",
    "\n",
    "Since we are given the slope efficency of this curve we are given the linear factor by which the output laser power increases with pump power in the above-threshold regime.\n",
    "\n",
    "No power until we are past the threashold $P_{thresh}$ and then a linear inctrease of $10\\% \\implies m = 0.1$"
   ]
  },
  {
   "cell_type": "code",
   "execution_count": 11,
   "metadata": {},
   "outputs": [
    {
     "data": {
      "application/vnd.jupyter.widget-view+json": {
       "model_id": "ecdff0fdc7e04d08a262d70e73ec35ad",
       "version_major": 2,
       "version_minor": 0
      },
      "text/plain": [
       "Figure(axes=[Axis(scale=LinearScale()), Axis(orientation='vertical', scale=LinearScale())], fig_margin={'top':…"
      ]
     },
     "metadata": {},
     "output_type": "display_data"
    }
   ],
   "source": [
    "power_threshold=0.4\n",
    "slope_efficiency=0.1\n",
    "\n",
    "\n",
    "def f(x) : \n",
    "    if (x > power_threshold) : \n",
    "        return x * slope_efficiency - 0.4 * slope_efficiency\n",
    "    else : \n",
    "        return 0\n",
    "\n",
    "domain = np.linspace(0,10,1000)\n",
    "y = list(map(f,domain))\n",
    "\n",
    "plt.figure(title='Output Power vs Input Input Power',interaction=None)\n",
    "\n",
    "plt.plot(domain,y)\n",
    "plt.show(display_toolbar=False)\n",
    "\n",
    "plt.xlabel(\"Pump Power\")\n",
    "plt.ylabel(\"Output Laser Power\")\n",
    "\n",
    "\n"
   ]
  },
  {
   "cell_type": "markdown",
   "metadata": {},
   "source": [
    "Now all thats left is to make sure that the input pump power is not too far above saturation "
   ]
  },
  {
   "cell_type": "code",
   "execution_count": 12,
   "metadata": {},
   "outputs": [
    {
     "name": "stdout",
     "output_type": "stream",
     "text": [
      "Saturation Power = 3.768433e+03 [W]\n"
     ]
    }
   ],
   "source": [
    "hbar = 1.054E-34\n",
    "sigma = 4.1e-24\n",
    "wl = 789e-9 \n",
    "tau = 3.2e-6\n",
    "omega = (3e8 / wl)*2 * np.pi\n",
    "r_beam = 25 * 10e-6\n",
    "beam_area = np.pi * (r_beam)**2\n",
    "i_sat = (hbar * omega)/(sigma * tau)\n",
    "p_sat = i_sat * beam_area\n",
    "print(f'Saturation Power = {p_sat:e} [W]')"
   ]
  },
  {
   "cell_type": "markdown",
   "metadata": {},
   "source": [
    "With a saturation power this high, the range of 0 to 10 Watts is certainly in the above threshold regime of linear increase so this curve is valid  "
   ]
  },
  {
   "cell_type": "markdown",
   "metadata": {},
   "source": [
    "## Problem 3\n",
    "\n",
    "At or above threshold the power circulating inside a laser cavity is given by \n",
    "\n",
    "$$P_{circ} = (\\frac{g}{L} - 1) \\frac{P_{sat}}{2}$$\n",
    "\n",
    "$L$ is the net loss in the cavity per round trip. \n",
    "\n",
    "$$ L = \\delta_{OC} + \\delta_{other} $$\n",
    "\n",
    "Here $\\delta_{OC} = 1 - R$ Is the loss due to the output coupling and $\\delta_{other]$ is the loss due to all other mechanisms. \n",
    "\n"
   ]
  },
  {
   "cell_type": "code",
   "execution_count": 13,
   "metadata": {},
   "outputs": [],
   "source": [
    "gain = 0.2 \n",
    "d_other = 0.01 \n",
    "p_sat = 6.8 \n",
    "\n",
    "def pcirc(d_oc) : \n",
    "    return ((gain/(d_oc + d_other)) - 1) * (p_sat/2)\n",
    "def pout(d_oc) : \n",
    "    return pcirc(d_oc) * d_oc"
   ]
  },
  {
   "cell_type": "code",
   "execution_count": 15,
   "metadata": {},
   "outputs": [
    {
     "data": {
      "application/vnd.jupyter.widget-view+json": {
       "model_id": "10cabed32712433da7255ea2438b10f9",
       "version_major": 2,
       "version_minor": 0
      },
      "text/plain": [
       "Figure(axes=[Axis(scale=LinearScale()), Axis(orientation='vertical', scale=LinearScale())], fig_margin={'top':…"
      ]
     },
     "metadata": {},
     "output_type": "display_data"
    }
   ],
   "source": [
    "domain = np.linspace(0,1,1000)\n",
    "y = list(map(pcirc,domain))\n",
    "\n",
    "plt.figure(title='Circulating Power vs Delta OC',interaction=None)\n",
    "\n",
    "plt.plot(domain,y)\n",
    "plt.show(display_toolbar=False)\n",
    "\n",
    "plt.xlabel(\"Delta OC\")\n",
    "plt.ylabel(\"Circulating Power\")\n"
   ]
  },
  {
   "cell_type": "code",
   "execution_count": null,
   "metadata": {},
   "outputs": [],
   "source": [
    "domain = np.linspace(0,1,1000)\n",
    "y = list(map(pout,domain))\n",
    "\n",
    "plt.figure(title='Power Output vs Delta OC',interaction=None)\n",
    "\n",
    "plt.plot(domain,y)\n",
    "plt.show(display_toolbar=False)\n",
    "\n",
    "plt.xlabel(\"Delta OC\")\n",
    "plt.ylabel(\"Circulating Power\")"
   ]
  }
 ],
 "metadata": {
  "kernelspec": {
   "display_name": "Python 3",
   "language": "python",
   "name": "python3"
  },
  "language_info": {
   "codemirror_mode": {
    "name": "ipython",
    "version": 3
   },
   "file_extension": ".py",
   "mimetype": "text/x-python",
   "name": "python",
   "nbconvert_exporter": "python",
   "pygments_lexer": "ipython3",
   "version": "3.8.2"
  }
 },
 "nbformat": 4,
 "nbformat_minor": 4
}
