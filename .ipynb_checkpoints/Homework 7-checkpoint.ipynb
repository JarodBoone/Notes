{
 "cells": [
  {
   "cell_type": "markdown",
   "metadata": {},
   "source": [
    "# Optics -- Homework 7\n",
    "Jarod Boone "
   ]
  },
  {
   "cell_type": "code",
   "execution_count": 1,
   "metadata": {},
   "outputs": [],
   "source": [
    "%matplotlib notebook \n",
    "import numpy as np # math library \n",
    "from bqplot import pyplot as plt # plotting library"
   ]
  },
  {
   "cell_type": "markdown",
   "metadata": {},
   "source": [
    "## Problem 1 \n",
    "\n",
    "Laser medium pumped by laser at $\\lambda_p = 690 * 10^{-9}\\enspace\\text{[m]}$ and with a laser frequency at $\\lambda_l = 930 * 10^{-9}\\enspace\\text{[m]}$. Because of the energy diagram and the fact that the pump and laser share the same lower energy state but have different high energy states, I'm going to assume that this is a 3-level laser system.\n",
    "\n",
    "This means population inversion is possible but requires some amount of input intensity much greater than 0. \n",
    "\n",
    "We can calculate the laser frequency ($\\frac{c}{\\lambda_l}\\cdot 2\\pi = \\omega_l$) in order to determine the saturation intensity $I_{sat} = \\frac{\\hbar\\cdot\\omega}{\\tau\\cdot\\sigma}$ at which the laser intensity saturates. "
   ]
  },
  {
   "cell_type": "code",
   "execution_count": 4,
   "metadata": {},
   "outputs": [
    {
     "name": "stdout",
     "output_type": "stream",
     "text": [
      "saturation intensity = 2.137419e+08 [W/m]\n"
     ]
    }
   ],
   "source": [
    "c = 3e8\n",
    "h = 6.626e-34\n",
    "\n",
    "pump_wavelength = 690e-9\n",
    "laser_wavelength = 930e-9\n",
    "\n",
    "sigma = 10e-23 \n",
    "tau = 10e-6\n",
    "laser_frequency = c/laser_wavelength  \n",
    "\n",
    "saturation_intensity = (h * laser_frequency)/(sigma * tau)\n",
    "\n",
    "print(f'saturation intensity = {saturation_intensity:e} [W/m]')"
   ]
  },
  {
   "cell_type": "markdown",
   "metadata": {},
   "source": [
    "**a)** Given that the laser is a 3 level system we can solve for the population inversion\n",
    "\n",
    "$$\\Delta N = N \\cdot \\frac{1 - (I/I_{sat})}{1 + (I/I_{sat})} \\implies \\Delta N < 0 \\quad \\textbf{iff} \\quad I > I_{sat} $$\n",
    "\n",
    "Therefore we must set the pump intensity $I_{pump} =$ `2.14 * 10^8 [W/m]` in order to obtain a population inversion \n",
    "\n",
    "**b)** If we pump at exactly this intensity there will be zero produced laser intensity because although the population is inverted we do not necessarily have a gain that overcomes the loss due to reflection and absorption within the laser cavity. More precisely: there exists some minimum intensity $I_{threshold} > I_{sat}$ such that there is no lasing if the pump intensity is less than $I_{threshold}$ \n",
    "\n",
    "Therfore the intensity of the laser radiation $I_{laser} =$ `0` given that  $I_{pump} = I_{sat}$ `2.14 * 10^8 [W/m]`\n",
    "\n",
    "**c)** If we raise the pump power to be far past this value then we will have some lasing! This will be proportional to the pump power and increase linearly by the slope efficiency. \n",
    "\n",
    "We know that the output intensity is directly porportional to $\\Delta N$ so we can therefore say that for a given pump intensity $I$ the output intensity is for some constant $A$\n",
    "\n",
    "$$ I_{laser} = A \\cdot \\frac{1 - (I - I_{threshold})/I_{sat}}{1 + (I - I_{threshold})/I_{sat}} = A \\cdot (\\frac{1}{1 + (I - I_{threshold})/I_{sat}} -  \\frac{(I - I_{threshold})/I_{sat}}{1 + (I - I_{threshold})/I_{sat}}) $$\n",
    "\n",
    "Upon inspection of the equation and isolation of the independent variable we see that this constant $A$ divided by $I_{sat}$ is the slope of $I_{laser}$ which is some non linear function of iput intensity\n",
    "\n",
    "$$  I_{laser} \\frac{A}{I_{sat}} \\cdot (\\frac{I_{sat}}{1 + (I - I_{threshold})/I_{sat}} -  \\frac{(I - I_{threshold})}{1 + (I - I_{threshold})/I_{sat}}) = \\frac{A}{I_{sat}} \\cdot \\frac{I_{sat}(I_{sat} + I_{threshold} - I)}{I_{sat} - I_{threshold} + I}$$\n",
    "\n",
    "Thus, by definition of the slope efficiency and per the givens in the problem we have $\\frac{A}{I_{sat}} = $ `60%`\n",
    "\n",
    "\n",
    "If we have the condition $ I >> I_{threshold} > I_{sat} $ Then the term $(I - I_{threshold})/I_{sat}$ dominates the first equation and the equation converges to \n",
    "\n",
    "$$ I_{laser} = \\lim_{I \\to \\infty} A \\cdot \\frac{1 - (I - I_{threshold})/I_{sat}}{1 + (I - I_{threshold})/I_{sat}} = A = I_{sat} * 0.6 = 1.28 \\cdot 10^{8} \\enspace [W/m^2]$$\n",
    "\n",
    "\n"
   ]
  },
  {
   "cell_type": "markdown",
   "metadata": {},
   "source": [
    "# Problem 2 \n",
    "\n",
    "We have a laser that we pump with another laser that emits green light. The threshold pump power of the pump needed to lase $P_{threshold} = 0.4W$\n",
    "\n",
    "The laser pump has a slope efficiency of 10%. The pump laser is focused to a spot size diameter of $50 \\enspace[\\mu m ]\\implies r_{focus} = 25 \\enspace[\\mu m] $ inside the gain medium.\n",
    "The absorption cross-section is given by $\\sigma = 4.1 * 10^{-19} \\enspace[cm^2] = 4.1 * 10^{-24} \\enspace [m^2]$\n",
    " at the laser wavelength\n",
    "of $\\lambda_l = 789 \\enspace [nm]$. The expiration lifetime of the laser meduim is given as $\\tau = 3.2 \\mu s$.\n",
    "\n",
    "We want to deal in power so we use the following equation to convert from saturation intensity to saturation power\n",
    "$P_{sat} = I_{sat}\\cdot A$\n",
    "\n",
    "We simply need to get a formula for the population inversion to determine a formula for the curve because the output power is porportional to population inversion (gain). We approximate this laser as a 4 level system as most lasers are and we are not given an energy level diagram. More specifically for some input power $P$ and an unknown constant $A$ we have: \n",
    "\n",
    "$$ P_{laser} = A \\cdot \\frac{1 - (P - P_{threshold})/P_{sat}}{1 + (P - P_{threshold})/P_{sat}} $$\n",
    "\n",
    "At values of $P$ that are near the threshold we have that $P - P_{threshold} \\to 0$ and therefore the denominator is dominated by 1 and we have  \n",
    "$$ P_{laser} = A \\cdot (P - P_{threshold})/P_{sat}$$\n",
    "\n",
    "Now the slope of the line in the near threshold regime is thus $\\frac{A}{P_{sat}}$ and we can use the given slope efficiency to solve for $A = P_sat \\cdot (0.1)$"
   ]
  },
  {
   "cell_type": "code",
   "execution_count": 11,
   "metadata": {},
   "outputs": [
    {
     "name": "stdout",
     "output_type": "stream",
     "text": [
      "Saturation Intensity = 1.920268e+09\n",
      "Saturation Power = 3.770437e+00\n"
     ]
    },
    {
     "data": {
      "application/vnd.jupyter.widget-view+json": {
       "model_id": "bd5d21f09da547fba162e435c55d6a68",
       "version_major": 2,
       "version_minor": 0
      },
      "text/plain": [
       "Figure(axes=[Axis(scale=LinearScale()), Axis(orientation='vertical', scale=LinearScale())], fig_margin={'top':…"
      ]
     },
     "metadata": {},
     "output_type": "display_data"
    }
   ],
   "source": [
    "# Problem 2 Laser Parameters \n",
    "laser_wavelength = 789e-9 \n",
    "tau = 3.2e-6\n",
    "laser_frequency = c/laser_wavelength  \n",
    "sigma = 4.1e-23 # -19 cm^2 ==> -23 m^2\n",
    "\n",
    "# Focus geometry \n",
    "r = 25e-6 \n",
    "focus_area = np.pi * r**2\n",
    "\n",
    "saturation_intensity = (h * laser_frequency)/(sigma * tau)\n",
    "print(f'Saturation Intensity = {saturation_intensity:e}')\n",
    "saturation_power = focus_area * saturation_intensity\n",
    "print(f'Saturation Power = {saturation_power:e}')\n",
    "\n",
    "domain = np.linspace(0,10,1000)\n",
    "y = list(map(f,domain))\n",
    "\n",
    "plt.figure(title='Output Power vs Input Input Power',interaction=None)\n",
    "\n",
    "plt.plot(domain,y)\n",
    "plt.show(display_toolbar=False)\n",
    "\n",
    "plt.xlabel(\"Pump Power\")\n",
    "plt.ylabel(\"Output Laser Power\")\n",
    "\n",
    "\n"
   ]
  },
  {
   "cell_type": "markdown",
   "metadata": {},
   "source": [
    "Now all thats left is to make sure that the input pump power is not too far above saturation "
   ]
  },
  {
   "cell_type": "code",
   "execution_count": 12,
   "metadata": {},
   "outputs": [
    {
     "name": "stdout",
     "output_type": "stream",
     "text": [
      "Saturation Power = 3.768433e+03 [W]\n"
     ]
    }
   ],
   "source": [
    "hbar = 1.054E-34\n",
    "sigma = 4.1e-24\n",
    "wl = 789e-9 \n",
    "tau = 3.2e-6\n",
    "omega = (3e8 / wl)*2 * np.pi\n",
    "r_beam = 25 * 10e-6\n",
    "beam_area = np.pi * (r_beam)**2\n",
    "i_sat = (hbar * omega)/(sigma * tau)\n",
    "p_sat = i_sat * beam_area\n",
    "print(f'Saturation Power = {p_sat:e} [W]')"
   ]
  },
  {
   "cell_type": "markdown",
   "metadata": {},
   "source": [
    "With a saturation power this high, the range of 0 to 10 Watts is certainly in the above threshold regime of linear increase so this curve is valid  "
   ]
  },
  {
   "cell_type": "markdown",
   "metadata": {},
   "source": [
    "## Problem 3\n",
    "\n",
    "At or above threshold the power circulating inside a laser cavity is given by \n",
    "\n",
    "$$P_{circ} = (\\frac{g}{L} - 1) \\frac{P_{sat}}{2}$$\n",
    "\n",
    "$L$ is the net loss in the cavity per round trip. \n",
    "\n",
    "$$ L = \\delta_{OC} + \\delta_{other} $$\n",
    "\n",
    "Here $\\delta_{OC} = 1 - R$ Is the loss due to the output coupling and $\\delta_{other}$ is the loss due to all other mechanisms. \n",
    "\n"
   ]
  },
  {
   "cell_type": "code",
   "execution_count": 13,
   "metadata": {},
   "outputs": [],
   "source": [
    "gain = 0.2 \n",
    "d_other = 0.01 \n",
    "p_sat = 6.8 \n",
    "\n",
    "def pcirc(d_oc) : \n",
    "    return ((gain/(d_oc + d_other)) - 1) * (p_sat/2)\n",
    "def pout(d_oc) : \n",
    "    return pcirc(d_oc) * d_oc"
   ]
  },
  {
   "cell_type": "code",
   "execution_count": 15,
   "metadata": {},
   "outputs": [
    {
     "data": {
      "application/vnd.jupyter.widget-view+json": {
       "model_id": "10cabed32712433da7255ea2438b10f9",
       "version_major": 2,
       "version_minor": 0
      },
      "text/plain": [
       "Figure(axes=[Axis(scale=LinearScale()), Axis(orientation='vertical', scale=LinearScale())], fig_margin={'top':…"
      ]
     },
     "metadata": {},
     "output_type": "display_data"
    }
   ],
   "source": [
    "domain = np.linspace(0,1,1000)\n",
    "y = list(map(pcirc,domain))\n",
    "\n",
    "plt.figure(title='Circulating Power vs Delta OC',interaction=None)\n",
    "\n",
    "plt.plot(domain,y)\n",
    "plt.show(display_toolbar=False)\n",
    "\n",
    "plt.xlabel(\"Delta OC\")\n",
    "plt.ylabel(\"Circulating Power\")\n"
   ]
  },
  {
   "cell_type": "code",
   "execution_count": 16,
   "metadata": {},
   "outputs": [
    {
     "data": {
      "application/vnd.jupyter.widget-view+json": {
       "model_id": "aabc780a298f4aaf9814c473f26ab275",
       "version_major": 2,
       "version_minor": 0
      },
      "text/plain": [
       "Figure(axes=[Axis(scale=LinearScale()), Axis(orientation='vertical', scale=LinearScale())], fig_margin={'top':…"
      ]
     },
     "metadata": {},
     "output_type": "display_data"
    }
   ],
   "source": [
    "domain = np.linspace(0,1,1000)\n",
    "y = list(map(pout,domain))\n",
    "\n",
    "plt.figure(title='Power Output vs Delta OC',interaction=None)\n",
    "\n",
    "plt.plot(domain,y)\n",
    "plt.show(display_toolbar=False)\n",
    "\n",
    "plt.xlabel(\"Delta OC\")\n",
    "plt.ylabel(\"Output Power\")"
   ]
  },
  {
   "cell_type": "markdown",
   "metadata": {},
   "source": [
    "The plots are only really meaningful on the range of $\\delta_{OC} \\in [0,1]$ because reflectanc is a percentage. The maximum for circulating power is about 65 Watts. The maximum value for output power is apparently 0.48 Watts. No they do not happen at the same value of $\\delta_{OC}$"
   ]
  },
  {
   "cell_type": "code",
   "execution_count": null,
   "metadata": {},
   "outputs": [],
   "source": []
  }
 ],
 "metadata": {
  "kernelspec": {
   "display_name": "Python 3",
   "language": "python",
   "name": "python3"
  },
  "language_info": {
   "codemirror_mode": {
    "name": "ipython",
    "version": 3
   },
   "file_extension": ".py",
   "mimetype": "text/x-python",
   "name": "python",
   "nbconvert_exporter": "python",
   "pygments_lexer": "ipython3",
   "version": "3.8.2"
  }
 },
 "nbformat": 4,
 "nbformat_minor": 4
}
