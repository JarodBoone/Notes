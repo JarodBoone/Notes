{
 "cells": [
  {
   "cell_type": "markdown",
   "metadata": {},
   "source": [
    "# What the Fuck is Going On? \n",
    "\n",
    "Not in the colloqial sense although, addmittedly, there is quite a lot going on in human experience right now. Election madness, a global pandemic, climate change, apocalypse type thing etc. \n",
    "\n",
    "But I mean that question in the literal sense. \n",
    "\n",
    "Like what does it mean for something to be going on? \n",
    "\n",
    "All societal confusion pales in comparison to the absolute disorientiation that comes over ones being the moment they truly ask themselves: What the FUCK is going on?? \n",
    "\n",
    "The answer to this question is the basis of all science, religion and language. The answer to this question solves the essential problem of what is \"real\" and how does \"reality\" behave. I really doubt a productive conversation would be achieved by trying to discuss first principles, but I will briefly clarify some things I consider given as well as some terminology. \n",
    "\n",
    "Even in my worst rabbit holes, one thing that can be agreed on by the jury in my head is that (existentially speaking) something is going on. \n",
    "\n",
    "### Postulate 1:\n",
    "**Something somewhere at some time happened(happens?)**\n",
    "\n",
    "That is to say that some event or thing has occured or existed. Regardless of what is real or ones own perception, it can be reasoned that as a long as something beleives that there is something going on (which I beleive we all are) then there must be at least one thing happening in the universe. \n",
    "\n",
    "That is, if you admit as a being that you are experiencing or believe yourself to be experiencing **something** whatever that is, then at the very least **that** in and of itself must be considered \"real\". Whether you are a brain in a vat or some alien simulation, there must be some host to hold your experience/memories. Some instance of some thing.\n",
    "\n",
    "Otherwise, how could you even be reading this? How could you hold any amount of perceived universe with no where to put it? \n",
    "\n",
    "There are some pretty neat implications of this. For starters you are techincally making the Universe real by considering things to be real/having a temporal experience. But the key takeaway we want here is that at least one thing exists and is real: your perception. \n",
    "\n",
    "### Postulate 2 \n",
    "**I, me, whatever I am, can experience this thing in some capacity** \n",
    "\n",
    "Now regardless of all the quibbling around what personal identity is, lets assume that I know what my \"self\" is or at least some closest representation of the thing that is experiencing things and who's writing you are currently reading. Obviously we can sit here all day going back and forth about what's \"real\" and who \"I\" am. But true deconstruction into concepts is impossible and therefore this will always be an approximation. But hopefully some truth can be found in this, and you can trust me when I say that I am me and you are you and we can in fact, experience things. \n",
    "\n",
    "## The behavior of reality\n",
    "\n",
    "The absolute goal of physics is to be able to coherently and completely define the behavior of reality. Here we take behavior to be the way a system evolves through time. \n",
    "\n",
    "Physiscs is the core of the approximation of acoustics/experience. The world roughly can be split between two categories: Things that are able to be experienced (acoustics) \n",
    "Things that cannot be experienced (waves)\n",
    "\n",
    "For us to talk about physics we need to talk about waves first.\n",
    "\n",
    "And for us to talk about waves we need to talk about math. \n",
    "\n",
    "And for us to talk about math we need some tools. More details on the python modules I'm using can be found elsewhere but I have left comments to give a rough idea of what they do for the notes\n"
   ]
  },
  {
   "cell_type": "code",
   "execution_count": 2,
   "metadata": {},
   "outputs": [],
   "source": [
    "%matplotlib inline \n",
    "import numpy as np # math library \n",
    "from ipywidgets import interact, interactive, fixed, interact_manual # interaction library\n",
    "from bqplot import pyplot as plt # plotting library"
   ]
  },
  {
   "cell_type": "markdown",
   "metadata": {},
   "source": [
    "A wave is any function that translates in time. We can take \"function\" here to be roughly defined as the shape given by a mathematical function in space. \n",
    "\n",
    "For instance here is a simple function of a line through the origin. \n",
    "`g(x) = x`\n",
    "\n",
    "Assume that this is some shape in space i.e. that the **x** basis is a 1 dimensional euclidean space. A \"distance\". \n",
    "\n",
    "Behold its simple glory"
   ]
  },
  {
   "cell_type": "code",
   "execution_count": 1,
   "metadata": {},
   "outputs": [
    {
     "ename": "NameError",
     "evalue": "name 'plt' is not defined",
     "output_type": "error",
     "traceback": [
      "\u001b[1;31m---------------------------------------------------------------------------\u001b[0m",
      "\u001b[1;31mNameError\u001b[0m                                 Traceback (most recent call last)",
      "\u001b[1;32m<ipython-input-1-bccc02c6f8a9>\u001b[0m in \u001b[0;36m<module>\u001b[1;34m\u001b[0m\n\u001b[1;32m----> 1\u001b[1;33m \u001b[0mplt\u001b[0m\u001b[1;33m.\u001b[0m\u001b[0mfigure\u001b[0m\u001b[1;33m(\u001b[0m\u001b[0mtitle\u001b[0m\u001b[1;33m=\u001b[0m\u001b[1;34m'g(x): A Line Through the Origin'\u001b[0m\u001b[1;33m,\u001b[0m\u001b[0minteraction\u001b[0m\u001b[1;33m=\u001b[0m\u001b[1;32mNone\u001b[0m\u001b[1;33m)\u001b[0m\u001b[1;33m\u001b[0m\u001b[1;33m\u001b[0m\u001b[0m\n\u001b[0m\u001b[0;32m      2\u001b[0m \u001b[1;33m\u001b[0m\u001b[0m\n\u001b[0;32m      3\u001b[0m \u001b[1;32mdef\u001b[0m \u001b[0mg\u001b[0m\u001b[1;33m(\u001b[0m\u001b[0mx\u001b[0m\u001b[1;33m)\u001b[0m \u001b[1;33m:\u001b[0m\u001b[1;33m\u001b[0m\u001b[1;33m\u001b[0m\u001b[0m\n\u001b[0;32m      4\u001b[0m     \u001b[1;32mreturn\u001b[0m \u001b[0mx\u001b[0m\u001b[1;33m\u001b[0m\u001b[1;33m\u001b[0m\u001b[0m\n\u001b[0;32m      5\u001b[0m \u001b[1;33m\u001b[0m\u001b[0m\n",
      "\u001b[1;31mNameError\u001b[0m: name 'plt' is not defined"
     ]
    }
   ],
   "source": [
    "plt.figure(title='g(x): A Line Through the Origin',interaction=None)\n",
    "\n",
    "def g(x) : \n",
    "    return x\n",
    "\n",
    "x = np.linspace(-5,5, 1000) # linear space from -5 to 5 \n",
    "y = list(map(g,x)) # apply function to the space \n",
    "\n",
    "plt.plot(x,y)\n",
    "plt.show(display_toolbar=False)"
   ]
  },
  {
   "cell_type": "markdown",
   "metadata": {},
   "source": [
    "Now imagine that this line shape in space is moving through time, That means it occupies a different portion of the space depending on the time, but it keeps its shape! \n",
    "\n",
    "We can describe this with a new function of 2 variables `f(x,t) = g(x) - t`. This function takes in as input both space and time. Note that `g(x)` is unchanged and thus keeps it shape but is shifted left or right (relative to the origin) depending on `t`\n",
    "\n",
    "And that's exactly what a wave is. \n",
    "\n",
    "A wave is a shape (function) that translates in space as time changes. Mathematically speaking, a wave is any function that moves. "
   ]
  },
  {
   "cell_type": "code",
   "execution_count": 4,
   "metadata": {},
   "outputs": [
    {
     "data": {
      "application/vnd.jupyter.widget-view+json": {
       "model_id": "ee0426060c444d328f923d1e3b4b28b2",
       "version_major": 2,
       "version_minor": 0
      },
      "text/plain": [
       "Figure(axes=[Axis(scale=LinearScale()), Axis(orientation='vertical', scale=LinearScale(max=5.0, min=-5.0))], f…"
      ]
     },
     "metadata": {},
     "output_type": "display_data"
    },
    {
     "data": {
      "application/vnd.jupyter.widget-view+json": {
       "model_id": "9094f4f135ee4e019fa50560e747896d",
       "version_major": 2,
       "version_minor": 0
      },
      "text/plain": [
       "interactive(children=(FloatSlider(value=0.0, description='time', max=10.0), Output()), _dom_classes=('widget-i…"
      ]
     },
     "metadata": {},
     "output_type": "display_data"
    }
   ],
   "source": [
    "plt.figure(title='f(x,t): A Line That Moves Through Time',interaction=None)\n",
    "\n",
    "t=0\n",
    "\n",
    "def f(x) : \n",
    "    return x - t\n",
    "    \n",
    "x = np.linspace(-5,5,1000) \n",
    "y = list(map(f,x))\n",
    "\n",
    "plt.plot(x,y)\n",
    "plt.ylim(-5,5)\n",
    "plt.show(display_toolbar=False)\n",
    "\n",
    "@interact(time=(0,10.0))\n",
    "def update(time=0):\n",
    "    global t\n",
    "    t=time\n",
    "    fig = plt.current_figure()\n",
    "    line1 = fig.marks[0]\n",
    "    y = list(map(f,x))\n",
    "    line1.y = y\n",
    "    print(f\"this is where the line is after {time} seconds \")\n",
    "    "
   ]
  },
  {
   "cell_type": "markdown",
   "metadata": {},
   "source": [
    "Now as you may know, there are a lot more interesting functions out there then just a straight line. "
   ]
  },
  {
   "cell_type": "code",
   "execution_count": 15,
   "metadata": {},
   "outputs": [
    {
     "data": {
      "application/vnd.jupyter.widget-view+json": {
       "model_id": "32a336a5cd944a7a8ea2d56d6cd719e2",
       "version_major": 2,
       "version_minor": 0
      },
      "text/plain": [
       "Figure(axes=[Axis(scale=LinearScale(max=15.0, min=0.0)), Axis(orientation='vertical', scale=LinearScale(max=5.…"
      ]
     },
     "metadata": {},
     "output_type": "display_data"
    },
    {
     "data": {
      "application/vnd.jupyter.widget-view+json": {
       "model_id": "4fed6a8344cf4207a91f39d5d376dbaf",
       "version_major": 2,
       "version_minor": 0
      },
      "text/plain": [
       "interactive(children=(FloatSlider(value=0.0, description='time', max=10.0), Output()), _dom_classes=('widget-i…"
      ]
     },
     "metadata": {},
     "output_type": "display_data"
    }
   ],
   "source": [
    "plt.figure(title='f(x,t): A More Interesting Shape That Moves Through Time',interaction=None)\n",
    "\n",
    "t=0\n",
    "\n",
    "# Function of a triangle centered at t +\n",
    "def f(x) : \n",
    "    norm = t + 2.5\n",
    "    if norm + 2.5 < x or x < norm - 2.5 : \n",
    "        return 0\n",
    "    elif x > norm : \n",
    "        return (2.5 - x + t) + 2.5\n",
    "    else : \n",
    "        return x - t\n",
    "    \n",
    "x = np.linspace(0,15,1000) \n",
    "y = list(map(f,x))\n",
    "\n",
    "plt.plot(x,y)\n",
    "plt.ylim(-2,5)\n",
    "plt.xlim(0,15)\n",
    "plt.show(display_toolbar=False)\n",
    "\n",
    "@interact(time=(0,10.0))\n",
    "def update(time=0):\n",
    "    global t\n",
    "    t=time\n",
    "    fig = plt.current_figure()\n",
    "    line1 = fig.marks[0]\n",
    "    y = list(map(f,x))\n",
    "    line1.y = y\n",
    "    print(f\"this is where the line is after {time} seconds \")\n"
   ]
  },
  {
   "cell_type": "markdown",
   "metadata": {},
   "source": [
    "A wave is a moving perterbation essentially, some deviation from an equilibrium (in our case 0 is the equilibrium) that evolves or oscillates through time. \n",
    "\n",
    "Now this applies to most things. \n",
    "\n",
    "In math, in physics, in life: special things happen when you have symmetry \n",
    "\n",
    "Periodic functions repeated. Every part of the wave is symmetric so its all one wave but it canbe infinitely decomposed into symmetric components. \n",
    "\n",
    "An oscillation"
   ]
  },
  {
   "cell_type": "code",
   "execution_count": 17,
   "metadata": {
    "scrolled": false
   },
   "outputs": [
    {
     "data": {
      "application/vnd.jupyter.widget-view+json": {
       "model_id": "fd8bf7aadfed44338e58d606c1af017d",
       "version_major": 2,
       "version_minor": 0
      },
      "text/plain": [
       "Figure(axes=[Axis(scale=LinearScale()), Axis(orientation='vertical', scale=LinearScale(max=1.1, min=-1.1))], f…"
      ]
     },
     "metadata": {},
     "output_type": "display_data"
    },
    {
     "data": {
      "application/vnd.jupyter.widget-view+json": {
       "model_id": "72559d34d7df4b4bb4603dc821c3bb43",
       "version_major": 2,
       "version_minor": 0
      },
      "text/plain": [
       "interactive(children=(FloatSlider(value=4.0, description='frequency', max=10.0, min=0.1, step=0.001), FloatSli…"
      ]
     },
     "metadata": {},
     "output_type": "display_data"
    }
   ],
   "source": [
    "import numpy as np\n",
    "from bqplot import pyplot as plt\n",
    "\n",
    "plt.figure(title='The Most Interesting Shape That Moves Through Time',interaction=None)\n",
    "n = 1000\n",
    "x = np.linspace(0.0, 2*np.pi, n)\n",
    "y = np.sin(x*10*np.pi)\n",
    "plt.plot(x, y)\n",
    "plt.ylim(-1.1,1.1)\n",
    "plt.show(display_toolbar=False)\n",
    "\n",
    "\n",
    "@interact(frequency=(0.1,10.0,0.001),time=(0,100.0))\n",
    "def g(frequency=4.0,time=0.0):\n",
    "    fig = plt.current_figure()\n",
    "    line1 = fig.marks[0]\n",
    "    y = np.sin(x*frequency*np.pi - time)\n",
    "    line1.x = x\n",
    "    line1.y = y\n"
   ]
  },
  {
   "cell_type": "code",
   "execution_count": 8,
   "metadata": {},
   "outputs": [
    {
     "data": {
      "application/vnd.jupyter.widget-view+json": {
       "model_id": "3f4d1d6e769f47248dc3a56940bc1424",
       "version_major": 2,
       "version_minor": 0
      },
      "text/plain": [
       "Figure(animation_duration=10000, fig_margin={'top': 60, 'bottom': 60, 'left': 60, 'right': 60}, marks=[Pie(col…"
      ]
     },
     "metadata": {},
     "output_type": "display_data"
    }
   ],
   "source": [
    "data = np.random.rand(6)\n",
    "\n",
    "fig = plt.figure(animation_duration=10000)\n",
    "pie = plt.pie(data, radius=180, sort=False, display_labels='outside', display_values=True,\n",
    "          values_format='.0%', labels=list('ABCDEFGHIJ'))\n",
    "\n",
    "fig\n",
    "\n",
    "\n",
    "\n",
    "\n",
    "\n"
   ]
  },
  {
   "cell_type": "code",
   "execution_count": 9,
   "metadata": {},
   "outputs": [],
   "source": [
    "pie.sizes = np.random.rand(8)\n",
    "\n",
    "pie.sort = True\n",
    "\n",
    "\n",
    "#make pie a donut\n",
    "with pie.hold_sync():\n",
    "    pie.radius = 180\n",
    "    pie.inner_radius = 120"
   ]
  },
  {
   "cell_type": "code",
   "execution_count": null,
   "metadata": {},
   "outputs": [],
   "source": []
  }
 ],
 "metadata": {
  "kernelspec": {
   "display_name": "Python 3",
   "language": "python",
   "name": "python3"
  },
  "language_info": {
   "codemirror_mode": {
    "name": "ipython",
    "version": 3
   },
   "file_extension": ".py",
   "mimetype": "text/x-python",
   "name": "python",
   "nbconvert_exporter": "python",
   "pygments_lexer": "ipython3",
   "version": "3.8.2"
  }
 },
 "nbformat": 4,
 "nbformat_minor": 4
}
