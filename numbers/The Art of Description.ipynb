{
 "cells": [
  {
   "cell_type": "markdown",
   "metadata": {},
   "source": [
    "# The Art of Description\n",
    "\n",
    "The fundamental thing that we do as humans is describe things. A description is a way in which something is known, and we really like to know everything. We describe things with words and thoughts (there is some debate on how these things interact but that is not really the point of this so we are not going to deal with that shit). We describe things to ourselves and other people. We describe the things (words/thoughts) we use to describe. We make things \"real\" (there is some debate about what that word means but we are **definitely** not going to deal with that shit) by describing them.  \n",
    "\n",
    "So, right now I'm describing the concept of what describing is and you are (sometime in the future but also like, right now from your perspective) describing to yourself a different concept through your interpretation of these words. Don't think too hard about that. It doesn't even make sense so we should probably just ignore that.  \n",
    "\n",
    "But what is important is that these words are not my description. Words are just a vehicle that I use to denote an approximation of my description via an agreed set of formal symbols. But that's all we got so we are going to do the best we can lol"
   ]
  },
  {
   "cell_type": "code",
   "execution_count": 2,
   "metadata": {},
   "outputs": [],
   "source": [
    "thing=1"
   ]
  },
  {
   "cell_type": "code",
   "execution_count": 3,
   "metadata": {},
   "outputs": [
    {
     "name": "stdout",
     "output_type": "stream",
     "text": [
      "1\n"
     ]
    }
   ],
   "source": [
    "print(thing)"
   ]
  },
  {
   "cell_type": "code",
   "execution_count": null,
   "metadata": {},
   "outputs": [],
   "source": []
  }
 ],
 "metadata": {
  "kernelspec": {
   "display_name": "Python 3",
   "language": "python",
   "name": "python3"
  },
  "language_info": {
   "codemirror_mode": {
    "name": "ipython",
    "version": 3
   },
   "file_extension": ".py",
   "mimetype": "text/x-python",
   "name": "python",
   "nbconvert_exporter": "python",
   "pygments_lexer": "ipython3",
   "version": "3.8.2"
  }
 },
 "nbformat": 4,
 "nbformat_minor": 4
}
