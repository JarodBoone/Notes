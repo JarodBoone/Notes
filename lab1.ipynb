{
 "cells": [
  {
   "cell_type": "code",
   "execution_count": 1,
   "metadata": {},
   "outputs": [],
   "source": [
    "%matplotlib notebook \n",
    "import numpy as np # math library \n",
    "from bqplot import pyplot as plt # plotting library"
   ]
  },
  {
   "cell_type": "markdown",
   "metadata": {},
   "source": [
    "# ENGN 1560 Lab Report 1\n",
    "Jarod Boone\n",
    "\n",
    "Data aquired with Haley Mander \n",
    "\n",
    "In this lab we went into BH 190 to perform various refraction/reflection based measurements of a laser beam through a rotating prism centered on the optic axis. We use a Uniphase laser and measure the way it reflects and refracts as it passes through the prism at different angles. \n",
    "\n",
    "The first thing we did was use a half wave plate to try and get the laser beam to be as close to **p** polarization as possible. \n",
    "\n",
    "Next we angled the prism to be at normal incidence to the laser beam. This normal incidence occured when the rotating plate that the prsim was mounted on was at `296` degrees. The beam power entering the prism was approximately `12.5` micro Watts.  "
   ]
  },
  {
   "cell_type": "code",
   "execution_count": 2,
   "metadata": {},
   "outputs": [],
   "source": [
    "normal_angle = 296\n",
    "incident_power = 12.5e-6  "
   ]
  },
  {
   "cell_type": "markdown",
   "metadata": {},
   "source": [
    "Next we swept over various angles of the rotating plate and measured the power of the refelcted beam. \n",
    "\n",
    "| **Angle of Rotation (degrees)** | **Reflected Beam Power (nano Watts)** |\n",
    "|-----------------------------|-----------------------------------|\n",
    "| 300                         | 9.9                               |\n",
    "| 310                         | 9.9                               |\n",
    "| 320                         | 10.8                              |\n",
    "| 325                         | 12                                |\n",
    "| 328                         | 12.5                              |\n",
    "| 330                         | 11                                |\n",
    "| 332                         | 9.7                               |\n",
    "| 336                         | 8.5                               |\n",
    "| 340                         | 7.6                               |\n",
    "| 344                         | 7.3                               |\n",
    "\n",
    "By using tha angle of rotation of normal incidence we can determine the incindent angle at the prism surface incidence. Additionally by using the incident beam power we can use the refelected beam power to get the reflectance\n",
    "\n",
    "`reflectance = (reflected_power)/(incident_power)`"
   ]
  },
  {
   "cell_type": "code",
   "execution_count": 3,
   "metadata": {
    "scrolled": false
   },
   "outputs": [
    {
     "data": {
      "application/vnd.jupyter.widget-view+json": {
       "model_id": "a6536415827a4df3a80e0f27c667ff97",
       "version_major": 2,
       "version_minor": 0
      },
      "text/plain": [
       "Figure(axes=[Axis(scale=LinearScale()), Axis(orientation='vertical', scale=LinearScale())], fig_margin={'top':…"
      ]
     },
     "metadata": {},
     "output_type": "display_data"
    }
   ],
   "source": [
    "aor = [300 ,310 ,320 ,325 ,328 ,330 ,332 ,336 ,340 ,344]\n",
    "rbp = [9.9e-6, 9.9e-6, 10.8e-6, 12e-6, 12.5e-6, 11e-6, 9.7e-6, 8.5e-6, 7.6e-6, 7.3e-6]\n",
    "\n",
    "angle_of_incidence = list(map(lambda x: x - normal_angle,aor))\n",
    "reflectance = list(map(lambda x: x/incident_power,rbp))\n",
    "\n",
    "# plt.figure(title='Reflectance vs Angle of Incidence',interaction=None)\n",
    "\n",
    "plt.plot(angle_of_incidence,reflectance)\n",
    "plt.show(display_toolbar=False)\n",
    "\n",
    "plt.xlabel(\"Angle of Incidence\")\n",
    "plt.ylabel(\"Reflectance\")\n"
   ]
  },
  {
   "cell_type": "markdown",
   "metadata": {},
   "source": [
    "This data is erroneous because theory tells us that perfectly **p** polarized light should experience a logarithmic decay to zero as it approaces brewsters angle. \n",
    "\n",
    "This discrepancy probably comes from some sort of measuring error or the fact that the light is probably not perfectly P polarized.\n",
    "\n",
    "Despite these errors we still extrapolate brewsters angle to be the point where the reflectance is closest to zero. Thus we take"
   ]
  },
  {
   "cell_type": "code",
   "execution_count": 4,
   "metadata": {},
   "outputs": [],
   "source": [
    "brewsters_angle = 50"
   ]
  },
  {
   "cell_type": "markdown",
   "metadata": {},
   "source": [
    "From this we can use the equation for brewsters angle at an air to glass interface to determine the refractive index of the prism. If we assume the refractive index of air is 1 we have\n",
    "\n",
    "`brewsters_angle = atan(n_t/(1)) = atan(n_t/(1))`"
   ]
  },
  {
   "cell_type": "code",
   "execution_count": 5,
   "metadata": {
    "scrolled": true
   },
   "outputs": [
    {
     "name": "stdout",
     "output_type": "stream",
     "text": [
      "The calculated index of refraction is 1.19175359259421\n"
     ]
    },
    {
     "data": {
      "application/vnd.jupyter.widget-view+json": {
       "model_id": "8c63365c9466449b96cff1b907a7c21d",
       "version_major": 2,
       "version_minor": 0
      },
      "text/plain": [
       "Figure(axes=[Axis(scale=LinearScale()), Axis(orientation='vertical', scale=LinearScale())], fig_margin={'top':…"
      ]
     },
     "metadata": {},
     "output_type": "display_data"
    }
   ],
   "source": [
    "nt = np.tan(np.deg2rad(brewsters_angle))\n",
    "print(f'The calculated index of refraction is {nt}')\n",
    "\n",
    "def theta_in2theta_t(theta_in): \n",
    "    return np.rad2deg(np.arcsin(np.cos(np.deg2rad(theta_in)/nt)))\n",
    "\n",
    "def getReflectance(theta_in) :\n",
    "    Ot = np.deg2rad(theta_in2theta_t(theta_in))\n",
    "    Oi = np.deg2rad(theta_in)\n",
    "    return ((np.cos(Ot) - nt*np.cos(Oi))/(np.cos(Ot) + nt * np.cos(Oi)))**2\n",
    "\n",
    "domain = np.linspace(5,50,100)\n",
    "R = list(map(getReflectance,domain))\n",
    "\n",
    "plt.figure(title='Reflectance vs Angle of Incidence',interaction=None)\n",
    "\n",
    "\n",
    "\n",
    "plt.plot(domain,R,'r--')\n",
    "plt.scatter(angle_of_incidence,reflectance)\n",
    "\n",
    "    \n",
    "plt.show(display_toolbar=False)\n",
    "\n",
    "plt.xlabel(\"Angle of Incidence\")\n",
    "plt.ylabel(\"Reflectance\")"
   ]
  },
  {
   "cell_type": "markdown",
   "metadata": {},
   "source": [
    "In this plot the red dotted line is the Reflectance predicted by theory and the blue points are our data. \n",
    "\n",
    "For the next part of the lab we wanted to measure the angle of deviation for different angles of incidence. \n",
    "\n",
    "We repositioned the prism and got a new angle of rotation that corresponded to normal incidence. We then triangulated the angle of deviation by taking a fixed length of 7 inches away from the prism along the normal axis and determing the length we would need to make a perpendicualr side (opposite to the angle of deviation) in order to have the hypotnuse of a triangle made be the path of the transmitted beam. \n",
    "\n",
    "| Angle of Rotation (degrees) | Length of Opposite Side (inches) |\n",
    "|-----------------------------|----------------------------------|\n",
    "| 240                         | 25                               |\n",
    "| 230                         | 10.5                             |\n",
    "| 231                         | 11.5                             |\n",
    "| 232                         | 13                               |\n",
    "| 239                         | 15.5                             |\n",
    "| 219                         | 4                                |\n",
    "| 221                         | 5                                |\n",
    "| 225                         | 7                                |\n",
    "| 229                         | 9                                |\n",
    "| 210                         | 2                                |\n",
    "\n",
    "Because the fixed length leg is along the normal we know that the the angle between that and the hypotenuse will be the angle of deviation. Using some basic trigenometry we can solve for this angle "
   ]
  },
  {
   "cell_type": "code",
   "execution_count": 6,
   "metadata": {},
   "outputs": [
    {
     "data": {
      "application/vnd.jupyter.widget-view+json": {
       "model_id": "2cb4ab42345d414ab1394b519e51f099",
       "version_major": 2,
       "version_minor": 0
      },
      "text/plain": [
       "Figure(axes=[Axis(scale=LinearScale()), Axis(orientation='vertical', scale=LinearScale())], fig_margin={'top':…"
      ]
     },
     "metadata": {},
     "output_type": "display_data"
    }
   ],
   "source": [
    "normal_angle = 176\n",
    "aleg = 7 \n",
    "\n",
    "aor = [240, 230, 231, 232, 239, 219, 221, 225, 229, 210]\n",
    "oleg = [25, 10.5, 11.5, 13, 15.5, 4, 5, 7, 9, 2] \n",
    "\n",
    "# need to sort these for a line plot \n",
    "sort_zip = sorted(zip(aor,oleg))\n",
    "s_aor = [x for x,_ in sort_zip]\n",
    "s_oleg = [x for _,x in sort_zip]\n",
    "\n",
    "# calculate the angle of deviation on the sorted opposite leg\n",
    "angle_of_deviation = list(map(lambda x: np.rad2deg(np.arctan(x/aleg)),s_oleg))\n",
    "angle_of_incidence = list(map(lambda x: x - normal_angle,s_aor))\n",
    "\n",
    "plt.figure(title='Angle of Deviation vs Angle of Incidence',interaction=None)\n",
    "\n",
    "plt.plot(angle_of_incidence,angle_of_deviation)\n",
    "plt.show(display_toolbar=False)\n",
    "\n",
    "plt.xlabel(\"Angle of Incidence\")\n",
    "plt.ylabel(\"Angle of Deviation\")"
   ]
  },
  {
   "cell_type": "markdown",
   "metadata": {},
   "source": [
    "The angle of deviation is minimized at an angle of incidence of about `34` degrees. Here the angle of deviation takes on a value of about `15` degrees\n",
    "\n",
    "Assuming that this prism is equilateral then we know that `beta/2 = 30` degrees and can thus use the formula for minimum deviation through a prism \n",
    "\n",
    "`sin(theta_dev - theta_in + beta)= n*sin(beta/2)`\n",
    "\n",
    "To determine the refractive index of the prism"
   ]
  },
  {
   "cell_type": "code",
   "execution_count": 7,
   "metadata": {},
   "outputs": [
    {
     "name": "stdout",
     "output_type": "stream",
     "text": [
      "1.3121180579810148\n"
     ]
    }
   ],
   "source": [
    "theta_dev = 15\n",
    "theta_in = 34\n",
    "beta = 60\n",
    "n = np.sin(np.deg2rad(theta_dev - theta_in + beta))/np.sin(np.deg2rad(beta/2))\n",
    "print(n)"
   ]
  },
  {
   "cell_type": "markdown",
   "metadata": {},
   "source": [
    "Finally we can use this altrenative calculation of the refractive index of the prism to determine the theoretical angle of deviation for a given angle of incidence\n",
    "\n",
    "`theta_dev = theta_in - beta + asin(n * sin(beta - asin(sin(theta_in)/n)))`"
   ]
  },
  {
   "cell_type": "code",
   "execution_count": 8,
   "metadata": {},
   "outputs": [
    {
     "data": {
      "application/vnd.jupyter.widget-view+json": {
       "model_id": "cf96a8c804ac428ba7614f70734b8ab6",
       "version_major": 2,
       "version_minor": 0
      },
      "text/plain": [
       "Figure(axes=[Axis(scale=LinearScale()), Axis(orientation='vertical', scale=LinearScale())], fig_margin={'top':…"
      ]
     },
     "metadata": {},
     "output_type": "display_data"
    }
   ],
   "source": [
    "def getThetaDev(theta_in) :\n",
    "    Oi = np.deg2rad(theta_in)\n",
    "    return theta_in - beta + np.arcsin(n * np.sin(np.deg2rad(beta) - np.arcsin(np.sin(Oi)/n)))\n",
    "\n",
    "domain = np.linspace(34,64,100)\n",
    "Odev = list(map(getThetaDev,domain))\n",
    "\n",
    "plt.figure(title='Angle of Deviation vs Angle of Incidence',interaction=None)\n",
    "\n",
    "plt.plot(domain,Odev,'r--')\n",
    "plt.scatter(angle_of_incidence,angle_of_deviation)\n",
    "plt.show(display_toolbar=False)\n",
    "\n",
    "plt.xlabel(\"Angle of Incidence\")\n",
    "plt.ylabel(\"Angle of Deviation\")"
   ]
  },
  {
   "cell_type": "markdown",
   "metadata": {},
   "source": [
    "Again the red dotted line represents the Angle of Deviation predicted bt theory and the blue dots are our measured data. \n",
    "\n",
    "In both experiments the data did not match the theory. The index of refraction from each experiment are similar but not the same \n",
    "\n",
    "`n1 = 1.2` \n",
    "`n2 = 1.3` \n",
    "\n",
    "I would say the first experiment is more susceptible to error because it relies on the perfect **p** type polarization of the laser beam. \n",
    "\n",
    "Based on the index of refraction and the physical properties of the crystal I would guess that the prism is maybe some type of acrylic glass. "
   ]
  },
  {
   "cell_type": "code",
   "execution_count": null,
   "metadata": {},
   "outputs": [],
   "source": []
  }
 ],
 "metadata": {
  "kernelspec": {
   "display_name": "Python 3",
   "language": "python",
   "name": "python3"
  },
  "language_info": {
   "codemirror_mode": {
    "name": "ipython",
    "version": 3
   },
   "file_extension": ".py",
   "mimetype": "text/x-python",
   "name": "python",
   "nbconvert_exporter": "python",
   "pygments_lexer": "ipython3",
   "version": "3.8.2"
  }
 },
 "nbformat": 4,
 "nbformat_minor": 4
}
